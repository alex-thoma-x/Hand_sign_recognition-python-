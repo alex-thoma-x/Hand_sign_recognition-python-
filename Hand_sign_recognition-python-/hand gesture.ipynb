{
 "cells": [
  {
   "cell_type": "code",
   "execution_count": 3,
   "id": "fff0b77b",
   "metadata": {},
   "outputs": [
    {
     "name": "stdout",
     "output_type": "stream",
     "text": [
      "Collecting mediapipe\n",
      "  Using cached mediapipe-0.8.10-cp310-cp310-win_amd64.whl (48.6 MB)\n",
      "Requirement already satisfied: absl-py in c:\\users\\amil\\appdata\\local\\programs\\python\\python310\\lib\\site-packages (from mediapipe) (1.0.0)\n",
      "Requirement already satisfied: numpy in c:\\users\\amil\\appdata\\local\\programs\\python\\python310\\lib\\site-packages (from mediapipe) (1.22.2)\n",
      "Requirement already satisfied: protobuf>=3.11.4 in c:\\users\\amil\\appdata\\local\\programs\\python\\python310\\lib\\site-packages (from mediapipe) (3.19.4)\n",
      "Requirement already satisfied: attrs>=19.1.0 in c:\\users\\amil\\appdata\\local\\programs\\python\\python310\\lib\\site-packages (from mediapipe) (21.4.0)\n",
      "Requirement already satisfied: matplotlib in c:\\users\\amil\\appdata\\local\\programs\\python\\python310\\lib\\site-packages (from mediapipe) (3.5.1)\n",
      "Collecting opencv-contrib-python\n",
      "  Using cached opencv_contrib_python-4.5.5.64-cp36-abi3-win_amd64.whl (42.2 MB)\n",
      "Requirement already satisfied: six in c:\\users\\amil\\appdata\\local\\programs\\python\\python310\\lib\\site-packages (from absl-py->mediapipe) (1.16.0)\n",
      "Requirement already satisfied: pillow>=6.2.0 in c:\\users\\amil\\appdata\\local\\programs\\python\\python310\\lib\\site-packages (from matplotlib->mediapipe) (9.0.1)\n",
      "Requirement already satisfied: python-dateutil>=2.7 in c:\\users\\amil\\appdata\\local\\programs\\python\\python310\\lib\\site-packages (from matplotlib->mediapipe) (2.8.2)\n",
      "Requirement already satisfied: kiwisolver>=1.0.1 in c:\\users\\amil\\appdata\\local\\programs\\python\\python310\\lib\\site-packages (from matplotlib->mediapipe) (1.3.2)\n",
      "Requirement already satisfied: packaging>=20.0 in c:\\users\\amil\\appdata\\local\\programs\\python\\python310\\lib\\site-packages (from matplotlib->mediapipe) (21.3)\n",
      "Requirement already satisfied: cycler>=0.10 in c:\\users\\amil\\appdata\\local\\programs\\python\\python310\\lib\\site-packages (from matplotlib->mediapipe) (0.11.0)\n",
      "Requirement already satisfied: pyparsing>=2.2.1 in c:\\users\\amil\\appdata\\local\\programs\\python\\python310\\lib\\site-packages (from matplotlib->mediapipe) (3.0.7)\n",
      "Requirement already satisfied: fonttools>=4.22.0 in c:\\users\\amil\\appdata\\local\\programs\\python\\python310\\lib\\site-packages (from matplotlib->mediapipe) (4.29.1)\n",
      "Installing collected packages: opencv-contrib-python, mediapipe\n",
      "Successfully installed mediapipe-0.8.10 opencv-contrib-python-4.5.5.64\n"
     ]
    },
    {
     "name": "stderr",
     "output_type": "stream",
     "text": [
      "WARNING: You are using pip version 22.0.4; however, version 22.1 is available.\n",
      "You should consider upgrading via the 'C:\\Users\\amil\\AppData\\Local\\Programs\\Python\\Python310\\python.exe -m pip install --upgrade pip' command.\n"
     ]
    }
   ],
   "source": [
    "!pip install mediapipe --user"
   ]
  },
  {
   "cell_type": "code",
   "execution_count": 2,
   "id": "9bf4a26f",
   "metadata": {},
   "outputs": [],
   "source": [
    "import cv2\n",
    "import numpy as np\n",
    "import mediapipe as mp\n",
    "import tensorflow as tf\n",
    "from tensorflow.keras.models import load_model"
   ]
  },
  {
   "cell_type": "code",
   "execution_count": 3,
   "id": "3bfe3503",
   "metadata": {},
   "outputs": [],
   "source": [
    "mphand=mp.solutions.hands\n",
    "hands=mphand.Hands(max_num_hands=1,min_detection_confidence=0.7)\n",
    "mpdraw=mp.solutions.drawing_utils"
   ]
  },
  {
   "cell_type": "code",
   "execution_count": 4,
   "id": "b4353983",
   "metadata": {},
   "outputs": [],
   "source": [
    "model=load_model('mp_hand_gesture')"
   ]
  },
  {
   "cell_type": "code",
   "execution_count": 5,
   "id": "9c4008c9",
   "metadata": {},
   "outputs": [
    {
     "name": "stdout",
     "output_type": "stream",
     "text": [
      "['okay', 'peace', 'thumbs up', 'thumbs down', 'call me', 'stop', 'rock', 'live long', 'fist', 'smile']\n"
     ]
    }
   ],
   "source": [
    "f = open('gesture.names','r')\n",
    "classnames=f.read().split('\\n')\n",
    "f.close()\n",
    "print(classnames)"
   ]
  },
  {
   "cell_type": "code",
   "execution_count": 7,
   "id": "024cc20a",
   "metadata": {},
   "outputs": [],
   "source": [
    "cap= cv2.VideoCapture(0)\n",
    "while True:\n",
    "    _,frame=cap.read()\n",
    "    x,y,c=frame.shape\n",
    "    frame=cv2.flip(frame,1)\n",
    "    framergb = cv2.cvtColor(frame,cv2.COLOR_BGR2RGB)\n",
    "    result=hands.process(framergb)\n",
    "    className=''\n",
    "    if result.multi_hand_landmarks:\n",
    "        landmarks=[]\n",
    "        for hl in result.multi_hand_landmarks:\n",
    "            for lm in hl.landmark:\n",
    "                lmx=int(lm.x*x)\n",
    "                lmy=int(lm.y*y)\n",
    "                landmarks.append([lmx,lmy])\n",
    "            mpdraw.draw_landmarks(frame,hl,mphand.HAND_CONNECTIONS)\n",
    "            prediction=model.predict([landmarks])\n",
    "            classID = np.argmax(prediction)\n",
    "            className = classnames[classID]            \n",
    "    cv2.putText(frame, className, (10, 50), cv2.FONT_HERSHEY_SIMPLEX, \n",
    "                   1, (0,0,255), 2, cv2.LINE_AA)\n",
    "\n",
    "\n",
    "\n",
    "    cv2.imshow(\"output\",frame)\n",
    "    if cv2.waitKey(1) == ord('q'):\n",
    "        break\n",
    "cap.release()\n",
    "cv2.destroyAllWindows()\n"
   ]
  },
  {
   "cell_type": "code",
   "execution_count": 14,
   "id": "5e144c94",
   "metadata": {},
   "outputs": [],
   "source": [
    "framergb = cv2.cvtColor(frame,cv2.COLOR_BGR2RGB)\n",
    "result=hands.process(framergb)\n"
   ]
  },
  {
   "cell_type": "code",
   "execution_count": 15,
   "id": "62c7ab7e",
   "metadata": {},
   "outputs": [],
   "source": [
    "className=''\n",
    "if result.multi_hand_landmarks:\n",
    "    landmarks=[]\n",
    "    for hl in result.multi_hand_landmarks:\n",
    "        for lm in hl.landmark:\n",
    "            lmx=int(lm.x*x)\n",
    "            lmy=int(lm.y*y)\n",
    "            landmarks.append([lmx,lmy])\n",
    "        mpDraw.draw_landmarks(frame,hl,mphand.HAND_CONNECTIONS)"
   ]
  },
  {
   "cell_type": "code",
   "execution_count": null,
   "id": "d9259280",
   "metadata": {},
   "outputs": [],
   "source": [
    "prediction=model.predict([landmarks])\n",
    "print(prediction)\n",
    "classid=np.argmx"
   ]
  }
 ],
 "metadata": {
  "kernelspec": {
   "display_name": "Python 3 (ipykernel)",
   "language": "python",
   "name": "python3"
  },
  "language_info": {
   "codemirror_mode": {
    "name": "ipython",
    "version": 3
   },
   "file_extension": ".py",
   "mimetype": "text/x-python",
   "name": "python",
   "nbconvert_exporter": "python",
   "pygments_lexer": "ipython3",
   "version": "3.10.0"
  }
 },
 "nbformat": 4,
 "nbformat_minor": 5
}
